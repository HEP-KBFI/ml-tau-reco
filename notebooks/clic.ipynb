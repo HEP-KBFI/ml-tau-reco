{
 "cells": [
  {
   "cell_type": "code",
   "execution_count": null,
   "id": "foster-monte",
   "metadata": {},
   "outputs": [],
   "source": [
    "%matplotlib inline\n",
    "import bz2\n",
    "import json\n",
    "import pandas\n",
    "import numpy as np\n",
    "import matplotlib\n",
    "import matplotlib.pyplot as plt\n",
    "import networkx as nx\n",
    "import glob\n",
    "import fastjet\n",
    "import awkward as ak"
   ]
  },
  {
   "cell_type": "code",
   "execution_count": null,
   "id": "b689b68a",
   "metadata": {},
   "outputs": [],
   "source": [
    "jetdef = fastjet.JetDefinition(fastjet.antikt_algorithm, 0.4)"
   ]
  },
  {
   "cell_type": "markdown",
   "id": "009b1769",
   "metadata": {},
   "source": [
    "## Datasets\n",
    "\n",
    "CLIC detector model, Full Geant4 simulation: https://hepsim.jlab.org/taginfo.php?id=rfull201\n",
    "\n",
    "Physics processes:\n",
    "- `gev380ee_pythia6_ttbar_rfull201`: ttbar events in an electron-electron collider, no pileup "
   ]
  },
  {
   "cell_type": "markdown",
   "id": "7a9b0a76",
   "metadata": {},
   "source": [
    "# Plot one event"
   ]
  },
  {
   "cell_type": "code",
   "execution_count": null,
   "id": "16259fcb",
   "metadata": {},
   "outputs": [],
   "source": [
    "data = json.load(bz2.BZ2File(\"../testdata/pythia6_ttbar_0001_pandora_0.json.bz2\", \"r\"))\n",
    "\n",
    "iev = 0\n",
    "df_gen = pandas.DataFrame(data[iev][\"genparticles\"])\n",
    "df_hit = pandas.DataFrame(data[iev][\"track_hits\"])\n",
    "df_cl = pandas.DataFrame(data[iev][\"clusters\"])\n",
    "df_tr = pandas.DataFrame(data[iev][\"tracks\"])\n",
    "df_ecal = pandas.DataFrame(data[iev][\"ecal_hits\"])\n",
    "df_hcal = pandas.DataFrame(data[iev][\"hcal_hits\"])\n",
    "df_pfs = pandas.DataFrame(data[iev][\"pfs\"])\n",
    "    \n",
    "plt.figure(figsize=(10,10))\n",
    "plt.scatter(df_ecal[\"x\"], df_ecal[\"y\"], s=5*df_ecal[\"energy\"]);\n",
    "plt.scatter(df_hcal[\"x\"], df_hcal[\"y\"], s=5*df_hcal[\"energy\"]);\n",
    "plt.scatter(df_hit[\"x\"], df_hit[\"y\"], s=1);\n",
    "plt.scatter(df_cl[\"x\"], df_cl[\"y\"], s=5*df_cl[\"energy\"], alpha=0.5, marker=\"s\");\n",
    "plt.xlim(-2000,2000)\n",
    "plt.ylim(-2000,2000)"
   ]
  },
  {
   "cell_type": "code",
   "execution_count": null,
   "id": "894eb405",
   "metadata": {},
   "outputs": [],
   "source": [
    "#An old detector note describing how to compute track parameters\n",
    "#http://flc.desy.de/lcnotes/notes/localfsExplorer_read?currentPath=/afs/desy.de/group/flc/lcnotes/LC-DET-2006-004.pdf \n",
    "a = 3*10**-4\n",
    "b = 5 #B-field in tesla\n",
    "\n",
    "def track_pt(omega):\n",
    "    return a*np.abs(b/omega)"
   ]
  },
  {
   "cell_type": "code",
   "execution_count": null,
   "id": "7b534a31",
   "metadata": {},
   "outputs": [],
   "source": [
    "#Create the genparticle -> track/cluster -> particle flow event graph\n",
    "def event_to_graph(df_gen, df_cl, df_tr, df_pfs):\n",
    "    g = nx.DiGraph()\n",
    "    \n",
    "    #Add genparticles\n",
    "    for igen in range(len(df_gen)):\n",
    "        g.add_node(\"gen{}\".format(igen), typ=int(df_gen.iloc[igen][\"pdgid\"]), e=df_gen.iloc[igen][\"energy\"])\n",
    "\n",
    "    #Add links to parents\n",
    "    for igen in range(len(df_gen)):\n",
    "        \n",
    "        #Add links to parents\n",
    "        idx_parent0 = int(df_gen.iloc[igen][\"idx_parent0\"])\n",
    "        if idx_parent0 != -1:\n",
    "            g.add_edge(\"gen{}\".format(idx_parent0), \"gen{}\".format(igen), w=0)\n",
    "            \n",
    "        idx_parent1 = int(df_gen.iloc[igen][\"idx_parent1\"])\n",
    "        if idx_parent1 != -1:\n",
    "            g.add_edge(\"gen{}\".format(idx_parent1), \"gen{}\".format(igen), w=0)\n",
    "            \n",
    "    #Add calorimeter clusters\n",
    "    for icl in range(len(df_cl)):\n",
    "        g.add_node(\n",
    "            \"clu{}\".format(icl),\n",
    "            typ=df_cl.iloc[icl][\"type\"],\n",
    "            e=df_cl.iloc[icl][\"energy\"]\n",
    "        )\n",
    "        \n",
    "        #Add links from genparticles to cluster\n",
    "        #The weight is the energy contribution from the genparticle\n",
    "        for gp, gp_w in df_cl.iloc[icl][\"gp_contributions\"].items():\n",
    "            gp = int(gp)\n",
    "            if gp_w/df_cl.iloc[icl][\"energy\"]>0.2:\n",
    "                g.add_edge(\"gen{}\".format(gp), \"clu{}\".format(icl), w=gp_w)\n",
    "\n",
    "    #Add tracks\n",
    "    for itr in range(len(df_tr)):\n",
    "        g.add_node(\"tra{}\".format(itr), typ=0, e=df_tr.iloc[itr][\"pt\"])\n",
    "        \n",
    "        #Add links from genparticles to track.\n",
    "        #The weight is the number of hits in the track that came from this genparticle\n",
    "        for gp, gp_w in df_tr.iloc[itr][\"gp_contributions\"].items():\n",
    "            gp = int(gp)\n",
    "            if gp_w/df_tr.iloc[itr][\"nhits\"]>0.2:\n",
    "                g.add_edge(\"gen{}\".format(gp), \"tra{}\".format(itr), w=gp_w)\n",
    "\n",
    "    #Add PF objects\n",
    "    for ipf in range(len(df_pfs)):\n",
    "        g.add_node(\n",
    "            \"pfo{}\".format(ipf),\n",
    "            typ=int(df_pfs.iloc[ipf][\"type\"]),\n",
    "            e=df_pfs.iloc[ipf][\"energy\"]\n",
    "        )\n",
    "        \n",
    "        #Add link from cluster to PF object if available\n",
    "        cl_idx = int(df_pfs.iloc[ipf][\"cluster_idx\"])\n",
    "        if cl_idx!=-1:\n",
    "            g.add_edge(\"clu{}\".format(cl_idx), \"pfo{}\".format(ipf), w=0)\n",
    "\n",
    "        #Add link from track to PF object if available\n",
    "        tr_idx = int(df_pfs.iloc[ipf][\"track_idx\"])\n",
    "        if tr_idx!=-1:\n",
    "            g.add_edge(\"tra{}\".format(tr_idx), \"pfo{}\".format(ipf), w=0)\n",
    "    return g"
   ]
  },
  {
   "cell_type": "code",
   "execution_count": null,
   "id": "5133fc20",
   "metadata": {},
   "outputs": [],
   "source": [
    "#Given the decay graph, estiamte the energy in each PF object that came from the generator-level tau\n",
    "def get_tau_fractions(df_tau, df_pfs, g):\n",
    "    \n",
    "    tau_genparticles = [\n",
    "        \"gen{}\".format(x) for x in df_tau.index\n",
    "    ]\n",
    "    \n",
    "    energy_tau_tr = np.zeros_like(df_pfs[\"energy\"])\n",
    "    energy_tau_cl = np.zeros_like(df_pfs[\"energy\"])\n",
    "    \n",
    "    for genp in tau_genparticles:\n",
    "        \n",
    "        #Get all the nodes reachable from this gen tau\n",
    "        ng = nx.descendants(g, genp)\n",
    "        \n",
    "        #Find the particle flow objects downstream from the gen tau\n",
    "        pfs = [node for node in ng if node.startswith(\"pfo\")]\n",
    "        \n",
    "        #Loop over all the particle flow objects\n",
    "        for pfpart in pfs:\n",
    "            ipf = int(pfpart[3:])\n",
    "            \n",
    "            e_tr = 0.0\n",
    "            e_cl = 0.0\n",
    "            for pred in list(g.predecessors(pfpart)):\n",
    "                \n",
    "                #if this PF object came from a track, get the energy from the parent genparticle\n",
    "                if pred.startswith('tra'):\n",
    "                    track_preds = list(g.predecessors(pred))\n",
    "                    for this_tr_pred in track_preds:\n",
    "                        e_tr += g.nodes[this_tr_pred][\"e\"]\n",
    "                        \n",
    "                #if this PF object came from a cluster, get the energy from the edge\n",
    "                elif pred.startswith('clu'):\n",
    "                    cl_preds = list(g.predecessors(pred))\n",
    "                    for this_cl_pred in cl_preds:\n",
    "                        e_cl += g.edges[(this_cl_pred, pred)][\"w\"]\n",
    "            \n",
    "            energy_tau_tr[ipf] = e_tr\n",
    "            energy_tau_cl[ipf] = e_cl\n",
    "            \n",
    "#             print(\"  {} {} E_pf={:.2f} E_tau_tr={:.2f} E_tau_cl={:.2f}\".format(\n",
    "#                 pfpart, g.nodes[pfpart][\"typ\"], g.nodes[pfpart][\"e\"], e_tr, e_cl)\n",
    "#             )\n",
    "    df_pf_taufracs = pandas.DataFrame()\n",
    "    df_pf_taufracs[\"energy_tau_tr\"] = energy_tau_tr\n",
    "    df_pf_taufracs[\"energy_tau_cl\"] = energy_tau_cl\n",
    "    return df_pf_taufracs"
   ]
  },
  {
   "cell_type": "code",
   "execution_count": null,
   "id": "dde70397",
   "metadata": {},
   "outputs": [],
   "source": [
    "def compute_track_properties(df_tr):\n",
    "    df_tr[\"pt\"] = track_pt(df_tr[\"omega\"])\n",
    "    df_tr[\"px\"] = np.cos(df_tr[\"phi\"])*df_tr[\"pt\"]\n",
    "    df_tr[\"py\"] = np.sin(df_tr[\"phi\"])*df_tr[\"pt\"]\n",
    "    df_tr[\"pz\"] = df_tr[\"tan_lambda\"]*df_tr[\"pt\"]"
   ]
  },
  {
   "cell_type": "code",
   "execution_count": null,
   "id": "4759382b",
   "metadata": {},
   "outputs": [],
   "source": [
    "def process_one_event(data, iev):\n",
    "    #Get the dataframes corresponding to this event\n",
    "    df_gen = pandas.DataFrame(data[iev][\"genparticles\"])\n",
    "    df_hit = pandas.DataFrame(data[iev][\"track_hits\"])\n",
    "    df_cl = pandas.DataFrame(data[iev][\"clusters\"])\n",
    "    df_tr = pandas.DataFrame(data[iev][\"tracks\"])\n",
    "    df_ecal = pandas.DataFrame(data[iev][\"ecal_hits\"])\n",
    "    df_hcal = pandas.DataFrame(data[iev][\"hcal_hits\"])\n",
    "    df_pfs = pandas.DataFrame(data[iev][\"pfs\"])\n",
    "    compute_track_properties(df_tr)\n",
    "\n",
    "    #Get the generator taus with status==2\n",
    "    df_tau = df_gen[(df_gen[\"pdgid\"].abs()==15) & (df_gen[\"status\"]==2)]\n",
    "    \n",
    "    #cluster the PF particles to jets, reorder by pt descending\n",
    "    cluster = fastjet.ClusterSequence(ak.Array({\n",
    "        \"px\": df_pfs[\"px\"],\n",
    "        \"py\": df_pfs[\"py\"],\n",
    "        \"pz\": df_pfs[\"pz\"],\n",
    "        \"E\": df_pfs[\"energy\"],\n",
    "    }), jetdef)\n",
    "    jets_constituents = cluster.constituent_index(min_pt=5)[::-1]\n",
    "    \n",
    "    #Get the tau contributions in each PF object\n",
    "    graph = event_to_graph(df_gen, df_cl, df_tr, df_pfs)\n",
    "    df_pfs_taufrac = get_tau_fractions(df_gen, df_pfs, graph)\n",
    "    \n",
    "    #Now get the list of PF objects in each jet\n",
    "    pfs_by_jet = []\n",
    "    for jet_constituents in jets_constituents:\n",
    "        \n",
    "        #Get the PF objects corresponding to this jet\n",
    "        pfs_jet = df_pfs.iloc[jet_constituents]\n",
    "        pfs_jet_additional = df_pfs_taufrac.iloc[jet_constituents]\n",
    "        pfs_this_jet = pandas.concat([pfs_jet, pfs_jet_additional], axis=1)\n",
    "        pfs_by_jet.append(pfs_this_jet)\n",
    "\n",
    "    #return the gen taus, and the list of PF candidates in each jet\n",
    "    return df_tau, pfs_by_jet"
   ]
  },
  {
   "cell_type": "markdown",
   "id": "31f73585",
   "metadata": {},
   "source": [
    "# Process one event"
   ]
  },
  {
   "cell_type": "code",
   "execution_count": null,
   "id": "50bc2be5",
   "metadata": {},
   "outputs": [],
   "source": [
    "data = json.load(bz2.BZ2File(\"../testdata/pythia6_ttbar_0001_pandora_0.json.bz2\", \"r\"))\n",
    "ret = process_one_event(data, 1)"
   ]
  },
  {
   "cell_type": "markdown",
   "id": "505a2813",
   "metadata": {},
   "source": [
    "# Process all the data"
   ]
  },
  {
   "cell_type": "code",
   "execution_count": null,
   "id": "c2a61a12",
   "metadata": {
    "scrolled": false
   },
   "outputs": [],
   "source": [
    "for fn in glob.glob(\"../testdata/*.json.bz2\"):\n",
    "    \n",
    "    #Load the data file consisting of multiple events\n",
    "    data = json.load(bz2.BZ2File(fn, \"r\"))\n",
    "    \n",
    "    #Loop over the events in the data file\n",
    "    for iev in range(len(data)):\n",
    "        process_one_event(data, iev)"
   ]
  },
  {
   "cell_type": "markdown",
   "id": "75f227f9",
   "metadata": {},
   "source": [
    "# Misc"
   ]
  },
  {
   "cell_type": "markdown",
   "id": "c48837db",
   "metadata": {},
   "source": [
    "## Plot the graph for one event"
   ]
  },
  {
   "cell_type": "code",
   "execution_count": null,
   "id": "d321f39f",
   "metadata": {},
   "outputs": [],
   "source": [
    "# from networkx.drawing.nx_pydot import graphviz_layout\n",
    "# def node_color(node):\n",
    "#     if node.startswith(\"gen\"):\n",
    "#         if abs(g.nodes[node][\"typ\"])==15:\n",
    "#             return \"purple\"\n",
    "#         return \"red\"\n",
    "#     elif node.startswith(\"clu\"):\n",
    "#         return \"blue\"\n",
    "#     elif node.startswith(\"tra\"):\n",
    "#         return \"green\"\n",
    "#     else:\n",
    "#         return \"gray\"\n",
    "    \n",
    "# def node_label(node):\n",
    "#     typ = node[:4]\n",
    "#     l = \"{}\\n{:.2f}\".format(g.nodes[node][\"typ\"], g.nodes[node][\"e\"])\n",
    "#     return l\n",
    "\n",
    "# def edge_label(edge):\n",
    "#     w = g.edges[edge][\"w\"]\n",
    "#     if w>0.0:\n",
    "#         return \"{:.2f}\".format(w)\n",
    "#     return \"\""
   ]
  },
  {
   "cell_type": "code",
   "execution_count": null,
   "id": "51f8016d",
   "metadata": {},
   "outputs": [],
   "source": [
    "# plt.figure(figsize=(50,30))\n",
    "# pos = graphviz_layout(g, prog=\"dot\")\n",
    "# nx.draw_networkx_nodes(g, pos,\n",
    "#     node_size=[5*g.nodes[n][\"e\"] for n in g.nodes],\n",
    "#     node_color=[node_color(n) for n in g.nodes],\n",
    "# )\n",
    "# nx.draw_networkx_labels(g, pos,\n",
    "#     labels={n: node_label(n) for n in g.nodes},\n",
    "#     font_size=4\n",
    "# )\n",
    "# nx.draw_networkx_edges(g, pos, node_size=100.0);\n",
    "# nx.draw_networkx_edge_labels(\n",
    "#     g, pos,\n",
    "#     edge_labels={e: edge_label(e)  for e in g.edges},\n",
    "#     font_size=4\n",
    "# )\n",
    "# plt.savefig(\"plot.svg\")"
   ]
  },
  {
   "cell_type": "code",
   "execution_count": null,
   "id": "515089b7",
   "metadata": {},
   "outputs": [],
   "source": []
  }
 ],
 "metadata": {
  "kernelspec": {
   "display_name": "Python 3",
   "language": "python",
   "name": "python3"
  },
  "language_info": {
   "codemirror_mode": {
    "name": "ipython",
    "version": 3
   },
   "file_extension": ".py",
   "mimetype": "text/x-python",
   "name": "python",
   "nbconvert_exporter": "python",
   "pygments_lexer": "ipython3",
   "version": "3.8.10"
  }
 },
 "nbformat": 4,
 "nbformat_minor": 5
}
