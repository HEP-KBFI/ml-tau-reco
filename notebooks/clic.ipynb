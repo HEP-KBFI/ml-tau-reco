{
 "cells": [
  {
   "cell_type": "code",
   "execution_count": null,
   "id": "foster-monte",
   "metadata": {},
   "outputs": [],
   "source": [
    "%matplotlib inline\n",
    "import bz2\n",
    "import json\n",
    "import pandas\n",
    "import numpy as np\n",
    "import matplotlib\n",
    "import matplotlib.pyplot as plt\n",
    "import plotly.graph_objects as go\n",
    "import networkx as nx\n",
    "from networkx.drawing.nx_pydot import graphviz_layout"
   ]
  },
  {
   "cell_type": "code",
   "execution_count": null,
   "id": "grave-trauma",
   "metadata": {},
   "outputs": [],
   "source": [
    "data = json.load(bz2.BZ2File(\"testdata/pythia6_ttbar_0001_pandora_0.json.bz2\", \"r\"))"
   ]
  },
  {
   "cell_type": "code",
   "execution_count": null,
   "id": "loose-paradise",
   "metadata": {},
   "outputs": [],
   "source": [
    "#http://flc.desy.de/lcnotes/notes/localfsExplorer_read?currentPath=/afs/desy.de/group/flc/lcnotes/LC-DET-2006-004.pdf \n",
    "a = 3*10**-4\n",
    "b = 5 #B-field in tesla "
   ]
  },
  {
   "cell_type": "code",
   "execution_count": null,
   "id": "commercial-bedroom",
   "metadata": {},
   "outputs": [],
   "source": [
    "def track_pt(omega):\n",
    "    return a*np.abs(b/omega)"
   ]
  },
  {
   "cell_type": "code",
   "execution_count": null,
   "id": "efficient-harrison",
   "metadata": {},
   "outputs": [],
   "source": [
    "iev = 3\n",
    "df_gen = pandas.DataFrame(data[iev][\"genparticles\"])\n",
    "\n",
    "df_hit = pandas.DataFrame(data[iev][\"track_hits\"])\n",
    "df_cl = pandas.DataFrame(data[iev][\"clusters\"])\n",
    "df_tr = pandas.DataFrame(data[iev][\"tracks\"])\n",
    "df_ecal = pandas.DataFrame(data[iev][\"ecal_hits\"])\n",
    "df_hcal = pandas.DataFrame(data[iev][\"hcal_hits\"])\n",
    "df_pfs = pandas.DataFrame(data[iev][\"pfs\"])\n",
    "\n",
    "df_tr[\"pt\"] = track_pt(df_tr[\"omega\"])\n",
    "df_tr[\"px\"] = np.cos(df_tr[\"phi\"])*df_tr[\"pt\"]\n",
    "df_tr[\"py\"] = np.sin(df_tr[\"phi\"])*df_tr[\"pt\"]\n",
    "df_tr[\"pz\"] = df_tr[\"tan_lambda\"]*df_tr[\"pt\"]"
   ]
  },
  {
   "cell_type": "code",
   "execution_count": null,
   "id": "28545ed0",
   "metadata": {},
   "outputs": [],
   "source": [
    "df_gen[df_gen[\"pdgid\"].abs()==15]"
   ]
  },
  {
   "cell_type": "code",
   "execution_count": null,
   "id": "f6cc1ff5",
   "metadata": {},
   "outputs": [],
   "source": [
    "df_hit"
   ]
  },
  {
   "cell_type": "code",
   "execution_count": null,
   "id": "9089cfae",
   "metadata": {},
   "outputs": [],
   "source": [
    "df_ecal"
   ]
  },
  {
   "cell_type": "code",
   "execution_count": null,
   "id": "d2e01940",
   "metadata": {},
   "outputs": [],
   "source": [
    "df_hcal"
   ]
  },
  {
   "cell_type": "code",
   "execution_count": null,
   "id": "3e22678f",
   "metadata": {},
   "outputs": [],
   "source": [
    "df_tr"
   ]
  },
  {
   "cell_type": "code",
   "execution_count": null,
   "id": "0d4d980b",
   "metadata": {},
   "outputs": [],
   "source": [
    "df_cl"
   ]
  },
  {
   "cell_type": "code",
   "execution_count": null,
   "id": "efc9be54",
   "metadata": {},
   "outputs": [],
   "source": [
    "df_gen"
   ]
  },
  {
   "cell_type": "code",
   "execution_count": null,
   "id": "8a43ec1b",
   "metadata": {},
   "outputs": [],
   "source": [
    "df_pfs"
   ]
  },
  {
   "cell_type": "code",
   "execution_count": null,
   "id": "7b534a31",
   "metadata": {},
   "outputs": [],
   "source": [
    "g = nx.DiGraph()\n",
    "for igen in range(len(df_gen)):\n",
    "    g.add_node(\"gen{}\".format(igen), typ=int(df_gen.iloc[igen][\"pdgid\"]), e=df_gen.iloc[igen][\"energy\"])\n",
    "    \n",
    "for igen in range(len(df_gen)):\n",
    "    idx_parent0 = int(df_gen.iloc[igen][\"idx_parent0\"])\n",
    "    if idx_parent0 != -1:\n",
    "        g.add_edge(\"gen{}\".format(idx_parent0), \"gen{}\".format(igen))\n",
    "        \n",
    "for icl in range(len(df_cl)):\n",
    "    g.add_node(\"clu{}\".format(icl), typ=df_cl.iloc[icl][\"type\"], e=df_cl.iloc[icl][\"energy\"])\n",
    "    for gp, gp_w in df_cl.iloc[icl][\"gp_contributions\"].items():\n",
    "        if gp_w/df_cl.iloc[icl][\"energy\"]>0.2:\n",
    "            g.add_edge(\"gen{}\".format(gp), \"clu{}\".format(icl))\n",
    "\n",
    "for itr in range(len(df_tr)):\n",
    "    g.add_node(\"tra{}\".format(itr), typ=0, e=df_tr.iloc[itr][\"pt\"])\n",
    "    for gp, gp_w in df_tr.iloc[itr][\"gp_contributions\"].items():\n",
    "        if gp_w/df_tr.iloc[itr][\"nhits\"]>0.2:\n",
    "            g.add_edge(\"gen{}\".format(gp), \"tra{}\".format(itr))\n",
    "        \n",
    "for ipf in range(len(df_pfs)):\n",
    "    g.add_node(\"pfo{}\".format(ipf), typ=int(df_pfs.iloc[ipf][\"type\"]), e=df_pfs.iloc[ipf][\"energy\"])\n",
    "    cl_idx = int(df_pfs.iloc[ipf][\"cluster_idx\"])\n",
    "    if cl_idx!=-1:\n",
    "        g.add_edge(\"clu{}\".format(cl_idx), \"pfo{}\".format(ipf))\n",
    "\n",
    "    tr_idx = int(df_pfs.iloc[ipf][\"track_idx\"])\n",
    "    if tr_idx!=-1:\n",
    "        g.add_edge(\"tra{}\".format(tr_idx), \"pfo{}\".format(ipf))"
   ]
  },
  {
   "cell_type": "code",
   "execution_count": null,
   "id": "d321f39f",
   "metadata": {},
   "outputs": [],
   "source": [
    "def node_color(node):\n",
    "    if node.startswith(\"gen\"):\n",
    "        if abs(g.nodes[node][\"typ\"])==15:\n",
    "            return \"purple\"\n",
    "        return \"red\"\n",
    "    elif node.startswith(\"clu\"):\n",
    "        return \"blue\"\n",
    "    elif node.startswith(\"tra\"):\n",
    "        return \"green\"\n",
    "    else:\n",
    "        return \"gray\"\n",
    "    \n",
    "def node_label(node):\n",
    "    typ = node[:4]\n",
    "    l = \"{}\".format(g.nodes[node][\"typ\"])\n",
    "    return l"
   ]
  },
  {
   "cell_type": "code",
   "execution_count": null,
   "id": "51f8016d",
   "metadata": {},
   "outputs": [],
   "source": [
    "plt.figure(figsize=(50,30))\n",
    "pos = graphviz_layout(g, prog=\"dot\")\n",
    "nx.draw_networkx_nodes(g, pos,\n",
    "    node_size=[5*g.nodes[n][\"e\"] for n in g.nodes],\n",
    "    node_color=[node_color(n) for n in g.nodes],\n",
    ")\n",
    "nx.draw_networkx_labels(g, pos,\n",
    "    labels={n: node_label(n) for n in g.nodes},\n",
    "    font_size=5\n",
    ")\n",
    "nx.draw_networkx_edges(g, pos, node_size=100.0);\n",
    "plt.savefig(\"plot.svg\")"
   ]
  }
 ],
 "metadata": {
  "kernelspec": {
   "display_name": "Python 3",
   "language": "python",
   "name": "python3"
  },
  "language_info": {
   "codemirror_mode": {
    "name": "ipython",
    "version": 3
   },
   "file_extension": ".py",
   "mimetype": "text/x-python",
   "name": "python",
   "nbconvert_exporter": "python",
   "pygments_lexer": "ipython3",
   "version": "3.8.10"
  }
 },
 "nbformat": 4,
 "nbformat_minor": 5
}
