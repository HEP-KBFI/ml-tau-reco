{
 "cells": [
  {
   "cell_type": "code",
   "execution_count": null,
   "id": "c7425b2d",
   "metadata": {},
   "outputs": [],
   "source": [
    "%matplotlib inline"
   ]
  },
  {
   "cell_type": "code",
   "execution_count": null,
   "id": "ba52472d",
   "metadata": {},
   "outputs": [],
   "source": [
    "import awkward\n",
    "import matplotlib.pyplot as plt\n",
    "import vector\n",
    "import glob\n",
    "import numpy as np"
   ]
  },
  {
   "cell_type": "code",
   "execution_count": null,
   "id": "cfe9b1a5",
   "metadata": {},
   "outputs": [],
   "source": [
    "datas = []\n",
    "for fi in glob.glob(\"../data/grid_check/QCD/*.parquet\"):\n",
    "    data = awkward.from_parquet(fi)\n",
    "    datas.append(data)"
   ]
  },
  {
   "cell_type": "code",
   "execution_count": null,
   "id": "9f66f29f",
   "metadata": {},
   "outputs": [],
   "source": [
    "a = np.random.randn(3,3)"
   ]
  },
  {
   "cell_type": "code",
   "execution_count": null,
   "id": "72acdf7e",
   "metadata": {},
   "outputs": [],
   "source": [
    "np.stack([a, a]).shape"
   ]
  },
  {
   "cell_type": "code",
   "execution_count": null,
   "id": "e9cfc088",
   "metadata": {},
   "outputs": [],
   "source": [
    "np.concatenate([a, a]).shape"
   ]
  },
  {
   "cell_type": "code",
   "execution_count": null,
   "id": "2268f8ca",
   "metadata": {},
   "outputs": [],
   "source": [
    "reco_jet_p4s = awkward.concatenate([d[\"reco_jet_p4s\"] for d in datas])\n",
    "reco_jet_p4s = vector.awk(\n",
    "    awkward.zip(\n",
    "        {\n",
    "            \"mass\": reco_jet_p4s.tau,\n",
    "            \"x\": reco_jet_p4s.x,\n",
    "            \"y\": reco_jet_p4s.y,\n",
    "            \"z\": reco_jet_p4s.z,\n",
    "        }\n",
    "    )\n",
    ")\n",
    "\n",
    "inner_grid = awkward.concatenate([d[\"inner_grid\"] for d in datas])\n",
    "outer_grid = awkward.concatenate([d[\"outer_grid\"] for d in datas])\n",
    "\n",
    "njet = len(reco_jet_p4s)\n",
    "inner_grid = inner_grid.to_numpy().reshape(njet, 30, 11, 11)\n",
    "outer_grid = outer_grid.to_numpy().reshape(njet, 30, 21, 21)\n"
   ]
  },
  {
   "cell_type": "code",
   "execution_count": null,
   "id": "96331f51",
   "metadata": {},
   "outputs": [],
   "source": [
    "plt.hist(reco_jet_p4s.theta, bins=100);"
   ]
  },
  {
   "cell_type": "code",
   "execution_count": null,
   "id": "19706f84",
   "metadata": {},
   "outputs": [],
   "source": [
    "msk_low_theta = reco_jet_p4s.theta<0.5\n",
    "msk_high_theta = reco_jet_p4s.theta>2.5\n",
    "msk_mid_theta = ~(msk_low_theta | msk_high_theta)"
   ]
  },
  {
   "cell_type": "code",
   "execution_count": null,
   "id": "1d3eed15",
   "metadata": {
    "scrolled": false
   },
   "outputs": [],
   "source": [
    "for ivar in range(30):\n",
    "    fig, (axs0, axs1) = plt.subplots(2,3, figsize=(3*4,2*4))\n",
    "\n",
    "    plt.sca(axs0[0])\n",
    "    plt.imshow(inner_grid[msk_low_theta, ivar, :, :].mean(axis=0))\n",
    "    plt.title(r\"$\\theta <  0.5$\")\n",
    "    plt.colorbar()\n",
    "\n",
    "    plt.sca(axs0[1])\n",
    "    plt.imshow(inner_grid[msk_mid_theta, ivar, :, :].mean(axis=0))\n",
    "    plt.title(r\"$0.5 <  \\theta < 2.5$\")\n",
    "    plt.colorbar()\n",
    "\n",
    "    plt.sca(axs0[2])\n",
    "    plt.imshow(inner_grid[msk_high_theta, ivar, :, :].mean(axis=0))\n",
    "    plt.title(r\"$\\theta > 2.5$\")\n",
    "    plt.colorbar()\n",
    "\n",
    "\n",
    "    plt.sca(axs1[0])\n",
    "    plt.imshow(outer_grid[msk_low_theta, ivar, :, :].mean(axis=0))\n",
    "    plt.title(r\"$\\theta <  0.5$\")\n",
    "    plt.colorbar()\n",
    "\n",
    "    plt.sca(axs1[1])\n",
    "    plt.imshow(outer_grid[msk_mid_theta, ivar, :, :].mean(axis=0))\n",
    "    plt.title(r\"$0.5 <  \\theta < 2.5$\")\n",
    "    plt.colorbar()\n",
    "\n",
    "    plt.sca(axs1[2])\n",
    "    plt.imshow(outer_grid[msk_high_theta, ivar, :, :].mean(axis=0))\n",
    "    plt.title(r\"$\\theta > 2.5$\")\n",
    "    plt.colorbar()\n",
    "\n",
    "    plt.tight_layout()\n",
    "    plt.suptitle(\"mean ivar={}\".format(ivar))\n",
    "    plt.savefig(\"mean_grid_ivar{}.pdf\".format(ivar))\n",
    "    "
   ]
  },
  {
   "cell_type": "code",
   "execution_count": null,
   "id": "605886fe",
   "metadata": {},
   "outputs": [],
   "source": [
    "def to_p4(d):\n",
    "    ret = vector.awk(\n",
    "        awkward.zip(\n",
    "            {\n",
    "                \"mass\": d.tau,\n",
    "                \"x\": d.x,\n",
    "                \"y\": d.y,\n",
    "                \"z\": d.z,\n",
    "            }\n",
    "        )\n",
    "    )\n",
    "    return ret"
   ]
  },
  {
   "cell_type": "code",
   "execution_count": null,
   "id": "12ab2585",
   "metadata": {},
   "outputs": [],
   "source": [
    "def load_data(path):\n",
    "    datas = []\n",
    "    for fi in glob.glob(path):\n",
    "        data = awkward.from_parquet(fi)\n",
    "        datas.append(data)\n",
    "        \n",
    "    gen_tau_p4s = to_p4(awkward.concatenate([d[\"gen_jet_tau_p4s\"] for d in datas]))\n",
    "    reco_tau_p4s = to_p4(awkward.concatenate([d[\"tau_p4s\"] for d in datas]))\n",
    "    return gen_tau_p4s, reco_tau_p4s"
   ]
  },
  {
   "cell_type": "code",
   "execution_count": null,
   "id": "dd9684df",
   "metadata": {},
   "outputs": [],
   "source": [
    "p0 = load_data(\"../data/DeepTau/wconv/*.parquet\")\n",
    "p1 = load_data(\"../data/DeepTau/withcorrectgrid/*.parquet\")"
   ]
  },
  {
   "cell_type": "code",
   "execution_count": null,
   "id": "bd856271",
   "metadata": {},
   "outputs": [],
   "source": [
    "p0[1].pt - p1[1].pt"
   ]
  },
  {
   "cell_type": "code",
   "execution_count": null,
   "id": "647d6258",
   "metadata": {},
   "outputs": [],
   "source": [
    "plt.hist(\n",
    "    awkward.to_numpy(p0[1].pt)[p0[0].pt>0]/awkward.to_numpy(p0[0].pt)[p0[0].pt>0],\n",
    "    bins=np.linspace(0,2,100),\n",
    "    histtype=\"step\", lw=2\n",
    ");\n",
    "\n",
    "plt.hist(\n",
    "    awkward.to_numpy(p1[1].pt)[p1[0].pt>0]/awkward.to_numpy(p1[0].pt)[p1[0].pt>0],\n",
    "    bins=np.linspace(0,2,100),\n",
    "    histtype=\"step\", lw=2\n",
    ");\n",
    "plt.yscale(\"log\")"
   ]
  },
  {
   "cell_type": "code",
   "execution_count": null,
   "id": "3b28c91b",
   "metadata": {},
   "outputs": [],
   "source": []
  }
 ],
 "metadata": {
  "kernelspec": {
   "display_name": "Python 3 (ipykernel)",
   "language": "python",
   "name": "python3"
  },
  "language_info": {
   "codemirror_mode": {
    "name": "ipython",
    "version": 3
   },
   "file_extension": ".py",
   "mimetype": "text/x-python",
   "name": "python",
   "nbconvert_exporter": "python",
   "pygments_lexer": "ipython3",
   "version": "3.10.8"
  }
 },
 "nbformat": 4,
 "nbformat_minor": 5
}
