{
 "cells": [
  {
   "cell_type": "code",
   "execution_count": null,
   "id": "c7425b2d",
   "metadata": {},
   "outputs": [],
   "source": [
    "%matplotlib inline"
   ]
  },
  {
   "cell_type": "code",
   "execution_count": null,
   "id": "ba52472d",
   "metadata": {},
   "outputs": [],
   "source": [
    "import awkward\n",
    "import matplotlib.pyplot as plt\n",
    "import vector"
   ]
  },
  {
   "cell_type": "code",
   "execution_count": null,
   "id": "cfe9b1a5",
   "metadata": {},
   "outputs": [],
   "source": [
    "data = awkward.from_parquet(\"../data/grid_check/reco_p8_ee_ZH_Htautau_ecm380_200001.parquet\")"
   ]
  },
  {
   "cell_type": "code",
   "execution_count": null,
   "id": "420797fb",
   "metadata": {},
   "outputs": [],
   "source": [
    "ref_obj = \"reco_jet_p4s\"\n",
    "ref_p4 = vector.awk(\n",
    "    awkward.zip(\n",
    "        {\n",
    "            \"mass\": data[ref_obj].tau,\n",
    "            \"x\": data[ref_obj].x,\n",
    "            \"y\": data[ref_obj].y,\n",
    "            \"z\": data[ref_obj].z,\n",
    "        }\n",
    "    )\n",
    ")"
   ]
  },
  {
   "cell_type": "code",
   "execution_count": null,
   "id": "217d48b2",
   "metadata": {},
   "outputs": [],
   "source": [
    "event_cand_p4 = vector.awk(\n",
    "    awkward.zip(\n",
    "        {\n",
    "            \"mass\": data[\"event_reco_cand_p4s\"].tau,\n",
    "            \"x\": data[\"event_reco_cand_p4s\"].x,\n",
    "            \"y\": data[\"event_reco_cand_p4s\"].y,\n",
    "            \"z\": data[\"event_reco_cand_p4s\"].z,\n",
    "        }\n",
    "    )\n",
    ")\n",
    "\n",
    "\n",
    "jet_cand_p4 = vector.awk(\n",
    "    awkward.zip(\n",
    "        {\n",
    "            \"mass\": data[\"reco_cand_p4s\"].tau,\n",
    "            \"x\": data[\"reco_cand_p4s\"].x,\n",
    "            \"y\": data[\"reco_cand_p4s\"].y,\n",
    "            \"z\": data[\"reco_cand_p4s\"].z,\n",
    "        }\n",
    "    )\n",
    ")"
   ]
  },
  {
   "cell_type": "code",
   "execution_count": null,
   "id": "a960560e",
   "metadata": {},
   "outputs": [],
   "source": [
    "plt.figure(figsize=(5,5))\n",
    "ijet = 1\n",
    "plt.scatter(event_cand_p4[ijet].theta, event_cand_p4[ijet].phi, s=event_cand_p4[ijet].energy, marker=\"o\", alpha=0.5)\n",
    "plt.scatter(jet_cand_p4[ijet].theta, jet_cand_p4[ijet].phi, s=jet_cand_p4[ijet].energy, marker=\"^\", alpha=0.5)\n",
    "plt.scatter(ref_p4[ijet].theta, ref_p4[ijet].phi, s=ref_p4[ijet].energy, marker=\"s\", alpha=0.5)\n",
    "plt.xlim(-3.14,3.14)\n",
    "plt.ylim(-3.14, 3.14)"
   ]
  },
  {
   "cell_type": "code",
   "execution_count": null,
   "id": "0485b96c",
   "metadata": {},
   "outputs": [],
   "source": [
    "img = data[\"inner_grid\"].to_numpy()\n",
    "img2 = data[\"outer_grid\"].to_numpy()"
   ]
  },
  {
   "cell_type": "code",
   "execution_count": null,
   "id": "82a27b2f",
   "metadata": {},
   "outputs": [],
   "source": [
    "img_reshaped = img.reshape(60, 242, 11, 11)\n",
    "img2_reshaped = img2.reshape(60, 242, 21, 21)"
   ]
  },
  {
   "cell_type": "code",
   "execution_count": null,
   "id": "3633d6fb",
   "metadata": {},
   "outputs": [],
   "source": [
    "plt.imshow(img_reshaped[ijet][10:15].sum(axis=0))\n",
    "plt.colorbar()"
   ]
  },
  {
   "cell_type": "code",
   "execution_count": null,
   "id": "47595a67",
   "metadata": {},
   "outputs": [],
   "source": [
    "plt.imshow(img2_reshaped[ijet][10:15].sum(axis=0))\n",
    "plt.colorbar()"
   ]
  },
  {
   "cell_type": "code",
   "execution_count": null,
   "id": "e499343b",
   "metadata": {},
   "outputs": [],
   "source": [
    "plt.imshow(img_reshaped[2][10:15].sum(axis=0))\n",
    "plt.colorbar()"
   ]
  },
  {
   "cell_type": "code",
   "execution_count": null,
   "id": "7a3ec036",
   "metadata": {},
   "outputs": [],
   "source": [
    "plt.imshow(img2_reshaped[2][10:15].sum(axis=0))\n",
    "plt.colorbar()"
   ]
  }
 ],
 "metadata": {
  "kernelspec": {
   "display_name": "Python 3 (ipykernel)",
   "language": "python",
   "name": "python3"
  },
  "language_info": {
   "codemirror_mode": {
    "name": "ipython",
    "version": 3
   },
   "file_extension": ".py",
   "mimetype": "text/x-python",
   "name": "python",
   "nbconvert_exporter": "python",
   "pygments_lexer": "ipython3",
   "version": "3.10.8"
  }
 },
 "nbformat": 4,
 "nbformat_minor": 5
}
