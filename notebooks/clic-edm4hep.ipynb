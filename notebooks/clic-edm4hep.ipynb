{
 "cells": [
  {
   "cell_type": "code",
   "execution_count": null,
   "id": "01ab4fe2",
   "metadata": {},
   "outputs": [],
   "source": [
    "%matplotlib inline"
   ]
  },
  {
   "cell_type": "code",
   "execution_count": null,
   "id": "348146b2",
   "metadata": {},
   "outputs": [],
   "source": [
    "import uproot\n",
    "import matplotlib.pyplot as plt\n",
    "\n",
    "import vector\n",
    "import awkward\n",
    "import numpy as np"
   ]
  },
  {
   "cell_type": "code",
   "execution_count": null,
   "id": "1b2ac30d",
   "metadata": {},
   "outputs": [],
   "source": [
    "def map_pdgid_to_candid(pdgid, charge):\n",
    "    if pdgid == 0:\n",
    "        return 0\n",
    "\n",
    "    #photon, electron, muon\n",
    "    if pdgid in [22, 11, 13, 15]:\n",
    "        return pdgid\n",
    "\n",
    "    # charged hadron\n",
    "    if abs(charge) > 0:\n",
    "        return 211\n",
    "\n",
    "    # neutral hadron\n",
    "    return 130"
   ]
  },
  {
   "cell_type": "code",
   "execution_count": null,
   "id": "8327b36f",
   "metadata": {},
   "outputs": [],
   "source": [
    "fi = uproot.open(\"/home/joosep/particleflow/fcc/p8_ee_Z_Ztautau_ecm125/reco_p8_ee_Z_Ztautau_ecm125_1.root\")"
   ]
  },
  {
   "cell_type": "code",
   "execution_count": null,
   "id": "507bce57",
   "metadata": {},
   "outputs": [],
   "source": [
    "ev = fi[\"events\"]"
   ]
  },
  {
   "cell_type": "code",
   "execution_count": null,
   "id": "ee440daf",
   "metadata": {},
   "outputs": [],
   "source": [
    "mcp = ev.arrays([\"MCParticles\"])[\"MCParticles\"]\n",
    "mcp = awkward.Record({k.replace(\"MCParticles.\", \"\"): mcp[k] for k in mcp.fields})"
   ]
  },
  {
   "cell_type": "code",
   "execution_count": null,
   "id": "1e31f2e4",
   "metadata": {},
   "outputs": [],
   "source": [
    "mc_p4 = vector.awk(awkward.zip({\n",
    "    \"mass\": mcp[\"mass\"],\n",
    "    \"x\": mcp[\"momentum.x\"],\n",
    "    \"y\": mcp[\"momentum.y\"],\n",
    "    \"z\": mcp[\"momentum.z\"]}))"
   ]
  },
  {
   "cell_type": "code",
   "execution_count": null,
   "id": "044910d0",
   "metadata": {},
   "outputs": [],
   "source": [
    "mc_p4.energy[(np.abs(mcp[\"PDG\"])==15) & (mcp[\"generatorStatus\"]==2)]"
   ]
  },
  {
   "cell_type": "code",
   "execution_count": null,
   "id": "247ae626",
   "metadata": {},
   "outputs": [],
   "source": [
    "msk = mcp[\"generatorStatus\"]==1\n",
    "mc_pid = awkward.flatten(mcp.PDG[msk])\n",
    "mc_charge = awkward.flatten(mcp.charge[msk])\n",
    "mc_energy = awkward.flatten(mc_p4.energy[msk])\n",
    "\n",
    "mc_candid = np.array([\n",
    "    map_pdgid_to_candid(abs(pdgid), charge) for pdgid, charge in zip(mc_pid, mc_charge)\n",
    "])\n",
    "\n",
    "b = np.logspace(-2,3,101)\n",
    "for pid in np.unique(mc_candid):\n",
    "    plt.hist(\n",
    "        mc_energy[mc_candid==pid],\n",
    "        bins=b,\n",
    "        histtype=\"step\",\n",
    "        lw=2,\n",
    "        label=pid\n",
    "    );\n",
    "plt.legend()\n",
    "plt.xscale(\"log\")\n",
    "plt.xlabel(\"Energy [GeV]\")\n",
    "plt.ylabel(\"Number of particles / bin\")\n",
    "plt.title(\"Stable gen particles\")"
   ]
  },
  {
   "cell_type": "code",
   "execution_count": null,
   "id": "39c27fb9",
   "metadata": {},
   "outputs": [],
   "source": [
    "pos = ev.arrays([\n",
    "    \"ECALEndcap/ECALEndcap.position.x\",\n",
    "    \"ECALEndcap/ECALEndcap.position.y\",\n",
    "    \"ECALEndcap/ECALEndcap.position.z\",\n",
    "    \"ECALEndcap/ECALEndcap.energy\",\n",
    "    \"ECALBarrel/ECALBarrel.position.x\",\n",
    "    \"ECALBarrel/ECALBarrel.position.y\",\n",
    "    \"ECALBarrel/ECALBarrel.position.z\",\n",
    "    \"ECALBarrel/ECALBarrel.energy\",\n",
    "    \n",
    "    \"HCALEndcap/HCALEndcap.position.x\",\n",
    "    \"HCALEndcap/HCALEndcap.position.y\",\n",
    "    \"HCALEndcap/HCALEndcap.position.z\",\n",
    "    \"HCALEndcap/HCALEndcap.energy\",\n",
    "    \"HCALBarrel/HCALBarrel.position.x\",\n",
    "    \"HCALBarrel/HCALBarrel.position.y\",\n",
    "    \"HCALBarrel/HCALBarrel.position.z\",\n",
    "    \"HCALBarrel/HCALBarrel.energy\",\n",
    "\n",
    "])"
   ]
  },
  {
   "cell_type": "code",
   "execution_count": null,
   "id": "7d4edae1",
   "metadata": {},
   "outputs": [],
   "source": [
    "plt.figure(figsize=(4,4))\n",
    "plt.scatter(\n",
    "    pos[0][\"ECALEndcap/ECALEndcap.position.x\"],\n",
    "    pos[0][\"ECALEndcap/ECALEndcap.position.y\"],\n",
    "    s = pos[0][\"ECALEndcap/ECALEndcap.energy\"]\n",
    ")\n",
    "\n",
    "plt.scatter(\n",
    "    pos[0][\"ECALBarrel/ECALBarrel.position.x\"],\n",
    "    pos[0][\"ECALBarrel/ECALBarrel.position.y\"],\n",
    "    s = pos[0][\"ECALBarrel/ECALBarrel.energy\"]\n",
    ")\n",
    "\n",
    "plt.scatter(\n",
    "    pos[0][\"HCALEndcap/HCALEndcap.position.x\"],\n",
    "    pos[0][\"HCALEndcap/HCALEndcap.position.y\"],\n",
    "    s = pos[0][\"HCALEndcap/HCALEndcap.energy\"]\n",
    ")\n",
    "\n",
    "plt.scatter(\n",
    "    pos[0][\"HCALBarrel/HCALBarrel.position.x\"],\n",
    "    pos[0][\"HCALBarrel/HCALBarrel.position.y\"],\n",
    "    s = pos[0][\"HCALBarrel/HCALBarrel.energy\"]\n",
    ")\n",
    "\n",
    "plt.xlim(-2000,2000)\n",
    "plt.ylim(-2000,2000)"
   ]
  },
  {
   "cell_type": "code",
   "execution_count": null,
   "id": "8706bb4d",
   "metadata": {},
   "outputs": [],
   "source": [
    "plt.figure(figsize=(4,4))\n",
    "plt.scatter(\n",
    "    pos[0][\"ECALEndcap/ECALEndcap.position.x\"],\n",
    "    pos[0][\"ECALEndcap/ECALEndcap.position.z\"],\n",
    "    s = pos[0][\"ECALEndcap/ECALEndcap.energy\"]\n",
    ")\n",
    "\n",
    "plt.scatter(\n",
    "    pos[0][\"ECALBarrel/ECALBarrel.position.x\"],\n",
    "    pos[0][\"ECALBarrel/ECALBarrel.position.z\"],\n",
    "    s = pos[0][\"ECALBarrel/ECALBarrel.energy\"]\n",
    ")\n",
    "\n",
    "plt.scatter(\n",
    "    pos[0][\"HCALEndcap/HCALEndcap.position.x\"],\n",
    "    pos[0][\"HCALEndcap/HCALEndcap.position.z\"],\n",
    "    s = pos[0][\"HCALEndcap/HCALEndcap.energy\"]\n",
    ")\n",
    "\n",
    "plt.scatter(\n",
    "    pos[0][\"HCALBarrel/HCALBarrel.position.x\"],\n",
    "    pos[0][\"HCALBarrel/HCALBarrel.position.z\"],\n",
    "    s = pos[0][\"HCALBarrel/HCALBarrel.energy\"]\n",
    ")\n",
    "\n",
    "#plt.xlim(-2000,2000)\n",
    "#plt.ylim(-2000,2000)"
   ]
  }
 ],
 "metadata": {
  "kernelspec": {
   "display_name": "Python 3",
   "language": "python",
   "name": "python3"
  },
  "language_info": {
   "codemirror_mode": {
    "name": "ipython",
    "version": 3
   },
   "file_extension": ".py",
   "mimetype": "text/x-python",
   "name": "python",
   "nbconvert_exporter": "python",
   "pygments_lexer": "ipython3",
   "version": "3.8.10"
  }
 },
 "nbformat": 4,
 "nbformat_minor": 5
}
