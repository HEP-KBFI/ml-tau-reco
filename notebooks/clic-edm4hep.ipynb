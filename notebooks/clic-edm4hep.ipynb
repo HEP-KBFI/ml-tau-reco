{
 "cells": [
  {
   "cell_type": "code",
   "execution_count": null,
   "id": "01ab4fe2",
   "metadata": {},
   "outputs": [],
   "source": [
    "%matplotlib inline"
   ]
  },
  {
   "cell_type": "code",
   "execution_count": null,
   "id": "348146b2",
   "metadata": {},
   "outputs": [],
   "source": [
    "import uproot\n",
    "import matplotlib.pyplot as plt\n",
    "\n",
    "import vector\n",
    "import awkward\n",
    "import numpy as np\n",
    "import glob\n",
    "\n",
    "import fastjet"
   ]
  },
  {
   "cell_type": "code",
   "execution_count": null,
   "id": "1b2ac30d",
   "metadata": {},
   "outputs": [],
   "source": [
    "#Remap various PDG-IDs to just photon, electron, muon, tau, charged hadron, neutral hadron\n",
    "def map_pdgid_to_candid(pdgid, charge):\n",
    "    if pdgid == 0:\n",
    "        return 0\n",
    "\n",
    "    #photon, electron, muon\n",
    "    if pdgid in [22, 11, 13, 15]:\n",
    "        return pdgid\n",
    "\n",
    "    # charged hadron\n",
    "    if abs(charge) > 0:\n",
    "        return 211\n",
    "\n",
    "    # neutral hadron\n",
    "    return 130"
   ]
  },
  {
   "cell_type": "code",
   "execution_count": null,
   "id": "e2f56dd8",
   "metadata": {},
   "outputs": [],
   "source": [
    "!ls -lrt /local/joosep/clic_edm4hep/"
   ]
  },
  {
   "cell_type": "code",
   "execution_count": null,
   "id": "3305e7b2",
   "metadata": {},
   "outputs": [],
   "source": [
    "files = list(glob.glob(\"/local/joosep/clic_edm4hep/p8_ee_ZH_Htautau_ecm380/*.root\"))"
   ]
  },
  {
   "cell_type": "code",
   "execution_count": null,
   "id": "8327b36f",
   "metadata": {
    "scrolled": false
   },
   "outputs": [],
   "source": [
    "arrs = []\n",
    "for fn in files[:5]:\n",
    "    fi = uproot.open(fn)\n",
    "    ev = fi[\"events\"]\n",
    "    this_file_arrs = ev.arrays([\"MCParticles\", \"MergedRecoParticles\"])\n",
    "    \n",
    "    idx0 = \"RecoMCTruthLink#0/RecoMCTruthLink#0.index\"\n",
    "    idx1 = \"RecoMCTruthLink#1/RecoMCTruthLink#1.index\"\n",
    "\n",
    "    idx_recoparticle = ev.arrays(idx0)[idx0]\n",
    "    idx_mcparticle = ev.arrays(idx1)[idx1]\n",
    "    \n",
    "    #index in the MergedRecoParticles collection\n",
    "    this_file_arrs[\"idx_reco\"] = idx_recoparticle\n",
    "    \n",
    "    #index in the MCParticles collection\n",
    "    this_file_arrs[\"idx_mc\"] = idx_mcparticle\n",
    "    \n",
    "    arrs.append(this_file_arrs)\n",
    "arrs = awkward.concatenate(arrs)"
   ]
  },
  {
   "cell_type": "code",
   "execution_count": null,
   "id": "ee440daf",
   "metadata": {},
   "outputs": [],
   "source": [
    "#Compute 4-momentum of MC particles\n",
    "mcp = arrs[\"MCParticles\"]\n",
    "mcp = awkward.Record({k.replace(\"MCParticles.\", \"\"): mcp[k] for k in mcp.fields})\n",
    "mc_p4 = vector.awk(awkward.zip({\n",
    "    \"mass\": mcp[\"mass\"],\n",
    "    \"x\": mcp[\"momentum.x\"],\n",
    "    \"y\": mcp[\"momentum.y\"],\n",
    "    \"z\": mcp[\"momentum.z\"]}))"
   ]
  },
  {
   "cell_type": "code",
   "execution_count": null,
   "id": "2d10ced6",
   "metadata": {},
   "outputs": [],
   "source": [
    "# Get the matched reco and MC particles, flatten across all events, plot energy of reco vs. gen.\n",
    "\n",
    "plt.figure(figsize=(5,5))\n",
    "b = np.logspace(-1,3,100)\n",
    "plt.hist2d(\n",
    "    awkward.to_numpy(awkward.flatten(mc_p4.energy[arrs[\"idx_mc\"]])),\n",
    "    awkward.to_numpy(awkward.flatten(arrs[\"MergedRecoParticles\"][\"MergedRecoParticles.energy\"][arrs[\"idx_reco\"]])),\n",
    "    bins=(b,b),\n",
    "    cmap=\"Blues\"\n",
    ");\n",
    "plt.xscale(\"log\")\n",
    "plt.yscale(\"log\")"
   ]
  },
  {
   "cell_type": "code",
   "execution_count": null,
   "id": "14467fd3",
   "metadata": {},
   "outputs": [],
   "source": [
    "#Get the taus (status=2 is unstable/decaying)\n",
    "mask_taus = (np.abs(mcp[\"PDG\"])==15) & (mcp[\"generatorStatus\"]==2)"
   ]
  },
  {
   "cell_type": "code",
   "execution_count": null,
   "id": "f3cd736d",
   "metadata": {},
   "outputs": [],
   "source": [
    "mc_p4.energy[mask_taus]"
   ]
  },
  {
   "cell_type": "code",
   "execution_count": null,
   "id": "044910d0",
   "metadata": {},
   "outputs": [],
   "source": [
    "b = np.logspace(-2,3,101)\n",
    "\n",
    "plt.hist(\n",
    "    awkward.flatten(mc_p4.energy[mask_taus]),\n",
    "    bins=b,\n",
    "    label=\"15\",\n",
    "    histtype=\"step\",\n",
    "    lw=2\n",
    ")\n",
    "plt.xscale(\"log\")\n",
    "plt.xlabel(\"Energy [GeV]\")\n",
    "plt.ylabel(\"Number of particles / bin\")\n",
    "plt.title(\"Generator taus\")\n",
    "plt.legend()\n",
    "plt.xscale(\"log\")"
   ]
  },
  {
   "cell_type": "code",
   "execution_count": null,
   "id": "247ae626",
   "metadata": {},
   "outputs": [],
   "source": [
    "#Get the stable pythia particles\n",
    "msk = mcp[\"generatorStatus\"]==1\n",
    "mc_pid = awkward.flatten(mcp.PDG[msk])\n",
    "mc_charge = awkward.flatten(mcp.charge[msk])\n",
    "mc_energy = awkward.flatten(mc_p4.energy[msk])\n",
    "\n",
    "#map PDGID to candidate ID (similar labels as for PF)\n",
    "mc_candid = np.array([\n",
    "    map_pdgid_to_candid(abs(pdgid), charge) for pdgid, charge in zip(mc_pid, mc_charge)\n",
    "])\n",
    "\n",
    "b = np.logspace(-2,3,101)\n",
    "for pid in np.unique(mc_candid):\n",
    "    plt.hist(\n",
    "        mc_energy[mc_candid==pid],\n",
    "        bins=b,\n",
    "        histtype=\"step\",\n",
    "        lw=2,\n",
    "        label=pid\n",
    "    );\n",
    "plt.legend()\n",
    "plt.xscale(\"log\")\n",
    "plt.xlabel(\"Energy [GeV]\")\n",
    "plt.ylabel(\"Number of particles / bin\")\n",
    "plt.title(\"Stable gen particles\")"
   ]
  },
  {
   "cell_type": "code",
   "execution_count": null,
   "id": "6d38e610",
   "metadata": {},
   "outputs": [],
   "source": [
    "#Prepare 4-momentum of reco particles\n",
    "mrp = arrs[\"MergedRecoParticles\"]\n",
    "mrp = awkward.Record({k.replace(\"MergedRecoParticles.\", \"\"): mrp[k] for k in mrp.fields})\n",
    "reco_p4 = vector.awk(awkward.zip({\n",
    "    \"mass\": mrp[\"mass\"],\n",
    "    \"x\": mrp[\"momentum.x\"],\n",
    "    \"y\": mrp[\"momentum.y\"],\n",
    "    \"z\": mrp[\"momentum.z\"]}))"
   ]
  },
  {
   "cell_type": "code",
   "execution_count": null,
   "id": "27608bd4",
   "metadata": {},
   "outputs": [],
   "source": [
    "#Remove type=0 reco particles (not sure what they are, but they are never matched to genparticles)\n",
    "msk = mrp[\"type\"]!=0\n",
    "\n",
    "reco_pid = awkward.flatten(mrp[\"type\"][msk])\n",
    "reco_charge = awkward.flatten(mrp.charge[msk])\n",
    "reco_energy = awkward.flatten(reco_p4.energy[msk])\n",
    "\n",
    "reco_candid = np.array([\n",
    "    map_pdgid_to_candid(abs(pdgid), charge) for pdgid, charge in zip(reco_pid, reco_charge)\n",
    "])\n",
    "\n",
    "\n",
    "b = np.logspace(-2,3,101)\n",
    "for pid in np.unique(reco_candid):\n",
    "    plt.hist(\n",
    "        reco_energy[reco_candid==pid],\n",
    "        bins=b,\n",
    "        histtype=\"step\",\n",
    "        lw=2,\n",
    "        label=pid\n",
    "    );\n",
    "plt.legend()\n",
    "plt.xscale(\"log\")\n",
    "plt.xlabel(\"Energy [GeV]\")\n",
    "plt.ylabel(\"Number of particles / bin\")\n",
    "plt.title(\"reco particles\")"
   ]
  },
  {
   "cell_type": "code",
   "execution_count": null,
   "id": "481281dc",
   "metadata": {},
   "outputs": [],
   "source": [
    "#This is how you can check what collection corresponds to what collectionID\n",
    "collectionIDs = {k: v for k, v in\n",
    "    zip(fi.get(\"metadata\").arrays(\"CollectionIDs\")[\"CollectionIDs\"][\"m_names\"][0],\n",
    "    fi.get(\"metadata\").arrays(\"CollectionIDs\")[\"CollectionIDs\"][\"m_collectionIDs\"][0])}\n",
    "collectionIDs_reverse = {v: k for k, v in collectionIDs.items()}"
   ]
  },
  {
   "cell_type": "code",
   "execution_count": null,
   "id": "86b68a85",
   "metadata": {},
   "outputs": [],
   "source": [
    "#Cluster AK4 jets from PF particles with min pt 2 GeV\n",
    "jetdef = fastjet.JetDefinition(fastjet.antikt_algorithm, 0.4)\n",
    "cluster = fastjet.ClusterSequence(reco_p4.to_xyzt(), jetdef)\n",
    "jets = vector.awk(cluster.inclusive_jets(min_pt=2.0))"
   ]
  },
  {
   "cell_type": "code",
   "execution_count": null,
   "id": "14472497",
   "metadata": {},
   "outputs": [],
   "source": [
    "plt.hist(awkward.flatten(jets.pt), bins=100);"
   ]
  },
  {
   "cell_type": "code",
   "execution_count": null,
   "id": "4f348314",
   "metadata": {},
   "outputs": [],
   "source": [
    "#Get the PF particle indices in each jet\n",
    "constituent_idx = cluster.constituent_index(min_pt=2.0)\n",
    "constituent_idx"
   ]
  },
  {
   "cell_type": "code",
   "execution_count": null,
   "id": "838c12a4",
   "metadata": {},
   "outputs": [],
   "source": []
  }
 ],
 "metadata": {
  "kernelspec": {
   "display_name": "Python 3",
   "language": "python",
   "name": "python3"
  },
  "language_info": {
   "codemirror_mode": {
    "name": "ipython",
    "version": 3
   },
   "file_extension": ".py",
   "mimetype": "text/x-python",
   "name": "python",
   "nbconvert_exporter": "python",
   "pygments_lexer": "ipython3",
   "version": "3.8.10"
  }
 },
 "nbformat": 4,
 "nbformat_minor": 5
}
