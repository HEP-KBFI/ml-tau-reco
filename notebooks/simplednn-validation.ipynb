{
 "cells": [
  {
   "cell_type": "code",
   "execution_count": null,
   "id": "72c9cfce",
   "metadata": {},
   "outputs": [],
   "source": [
    "%matplotlib inline\n",
    "import matplotlib.pyplot as plt"
   ]
  },
  {
   "cell_type": "code",
   "execution_count": null,
   "id": "1e056855",
   "metadata": {},
   "outputs": [],
   "source": [
    "import awkward as ak\n",
    "import vector\n",
    "import glob\n",
    "import numpy as np\n",
    "\n",
    "import sklearn.metrics\n",
    "import yaml\n",
    "import os\n",
    "\n",
    "import mplhep\n",
    "mplhep.style.use(mplhep.style.CMS)"
   ]
  },
  {
   "cell_type": "code",
   "execution_count": null,
   "id": "86c78315",
   "metadata": {},
   "outputs": [],
   "source": [
    "test_file_paths = [\n",
    "    os.path.basename(p) for p in yaml.safe_load(open(\"../config/datasets/test.yaml\", \"rb\"))[\"test\"][\"paths\"] if \"ZH_Htautau\" in p\n",
    "]"
   ]
  },
  {
   "cell_type": "code",
   "execution_count": null,
   "id": "65c1be56",
   "metadata": {},
   "outputs": [],
   "source": [
    "vals_y_true = []\n",
    "vals_y_pred = []\n",
    "\n",
    "vals_e_true = []\n",
    "vals_e_pred = []\n",
    "for fi in test_file_paths:\n",
    "    fn = \"../data/SimpleDNN/ZH_Htautau/\" + fi\n",
    "    if not os.path.isfile(fn):\n",
    "        continue\n",
    "    print(fn)\n",
    "\n",
    "    data = ak.from_parquet(fn)\n",
    "    y_true = data[\"gen_jet_tau_decaymode\"]!=-1\n",
    "    y_pred = data[\"tauClassifier\"]\n",
    "    \n",
    "    data.fields\n",
    "    \n",
    "    tauP4_pred = vector.awk(\n",
    "        ak.zip(\n",
    "            {\n",
    "                \"x\": data[\"tau_p4s\"].x,\n",
    "                \"y\": data[\"tau_p4s\"].y,\n",
    "                \"z\": data[\"tau_p4s\"].z,\n",
    "                \"tau\": data[\"tau_p4s\"].tau,\n",
    "            }\n",
    "        )\n",
    "    )\n",
    "    tauP4_true = vector.awk(\n",
    "        ak.zip(\n",
    "            {\n",
    "                \"x\": data[\"gen_jet_tau_p4s\"].x,\n",
    "                \"y\": data[\"gen_jet_tau_p4s\"].y,\n",
    "                \"z\": data[\"gen_jet_tau_p4s\"].z,\n",
    "                \"tau\": data[\"gen_jet_tau_p4s\"].tau,\n",
    "            }\n",
    "        )\n",
    "    )\n",
    "    \n",
    "    vals_e_pred.append(ak.to_numpy(tauP4_pred.t))\n",
    "    vals_e_true.append(ak.to_numpy(tauP4_true.t))\n",
    "    \n",
    "    vals_y_true.append(ak.to_numpy(y_true))\n",
    "    vals_y_pred.append(ak.to_numpy(y_pred))\n",
    "\n",
    "vals_y_true = np.concatenate(vals_y_true)\n",
    "vals_y_pred = np.concatenate(vals_y_pred)\n",
    "\n",
    "vals_e_true = np.concatenate(vals_e_true)\n",
    "vals_e_pred = np.concatenate(vals_e_pred)"
   ]
  },
  {
   "cell_type": "code",
   "execution_count": null,
   "id": "c7990887",
   "metadata": {},
   "outputs": [],
   "source": [
    "fpr, tpr, _ = sklearn.metrics.roc_curve(vals_y_true, vals_y_pred)"
   ]
  },
  {
   "cell_type": "code",
   "execution_count": null,
   "id": "523e3e90",
   "metadata": {},
   "outputs": [],
   "source": [
    "plt.figure(figsize=(5,5))\n",
    "b = np.linspace(0.0, 1, 100)\n",
    "plt.hist(vals_y_pred[vals_y_true==1], bins=b, density=1, histtype=\"step\", label=\"sig\")\n",
    "plt.hist(vals_y_pred[vals_y_true==0], bins=b, density=1, histtype=\"step\", label=\"bkg\");\n",
    "plt.yscale(\"log\")\n",
    "plt.legend()\n",
    "plt.xlabel(\"tau classifier\")\n",
    "plt.ylabel(\"number of jets / bin\")"
   ]
  },
  {
   "cell_type": "code",
   "execution_count": null,
   "id": "d1b9d3fc",
   "metadata": {},
   "outputs": [],
   "source": [
    "plt.figure(figsize=(5,5))\n",
    "plt.plot(fpr, tpr)\n",
    "plt.plot([0,1], [0,1], color=\"black\", ls=\"--\")\n",
    "plt.xlabel(\"FPR\")\n",
    "plt.ylabel(\"TPR\")"
   ]
  },
  {
   "cell_type": "code",
   "execution_count": null,
   "id": "d82c64be",
   "metadata": {},
   "outputs": [],
   "source": [
    "plt.figure(figsize=(5,5))\n",
    "b = np.linspace(0,150,100)\n",
    "plt.hist2d(vals_e_true[vals_y_true==1], vals_e_pred[vals_y_true==1], (b, b), cmap=\"hot_r\");\n",
    "plt.plot([0,150],[0,150], color=\"blue\", ls=\"--\")\n",
    "plt.xlabel(\"True energy\")\n",
    "plt.ylabel(\"Reconstructed energy\")"
   ]
  },
  {
   "cell_type": "code",
   "execution_count": null,
   "id": "d7037f18",
   "metadata": {},
   "outputs": [],
   "source": []
  }
 ],
 "metadata": {
  "kernelspec": {
   "display_name": "Python 3 (ipykernel)",
   "language": "python",
   "name": "python3"
  },
  "language_info": {
   "codemirror_mode": {
    "name": "ipython",
    "version": 3
   },
   "file_extension": ".py",
   "mimetype": "text/x-python",
   "name": "python",
   "nbconvert_exporter": "python",
   "pygments_lexer": "ipython3",
   "version": "3.10.8"
  }
 },
 "nbformat": 4,
 "nbformat_minor": 5
}
