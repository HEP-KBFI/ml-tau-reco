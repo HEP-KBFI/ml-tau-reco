{
 "cells": [
  {
   "cell_type": "code",
   "execution_count": null,
   "id": "72c9cfce",
   "metadata": {},
   "outputs": [],
   "source": [
    "%matplotlib inline\n",
    "import matplotlib.pyplot as plt"
   ]
  },
  {
   "cell_type": "code",
   "execution_count": null,
   "id": "1e056855",
   "metadata": {},
   "outputs": [],
   "source": [
    "import awkward as ak\n",
    "import vector\n",
    "import glob\n",
    "import numpy as np\n",
    "\n",
    "import sklearn.metrics\n",
    "import yaml\n",
    "import os\n",
    "\n",
    "import matplotlib\n",
    "import mplhep\n",
    "mplhep.style.use(mplhep.style.CMS)"
   ]
  },
  {
   "cell_type": "code",
   "execution_count": null,
   "id": "86c78315",
   "metadata": {},
   "outputs": [],
   "source": [
    "#get the list of files that were set aside for testing\n",
    "test_paths = yaml.safe_load(open(\"../config/datasets/test.yaml\", \"rb\"))[\"test\"][\"paths\"]\n",
    "test_paths = [os.path.basename(p) for p in test_paths]"
   ]
  },
  {
   "cell_type": "code",
   "execution_count": null,
   "id": "65c1be56",
   "metadata": {},
   "outputs": [],
   "source": [
    "#binary classification outputs\n",
    "vals_cls_true = []\n",
    "vals_cls_pred = []\n",
    "\n",
    "#decay modes\n",
    "vals_dm_true = []\n",
    "vals_dm_pred = []\n",
    "\n",
    "#energy regression outputs\n",
    "vals_e_true = []\n",
    "vals_e_pred = []\n",
    "\n",
    "#loop over the evaluation outputs\n",
    "for fi in glob.glob(\"../simplednn/SimpleDNN/*/*.parquet\"):\n",
    "    if not os.path.basename(fi) in test_paths:\n",
    "        continue\n",
    "    print(fi)\n",
    "\n",
    "    data = ak.from_parquet(fi)\n",
    "    \n",
    "    cls_true = data[\"gen_jet_tau_decaymode\"]!=-1\n",
    "    cls_pred = data[\"tauClassifier\"]\n",
    "\n",
    "    dm_true = data[\"gen_jet_tau_decaymode\"]\n",
    "    dm_pred = data[\"tau_decaymode\"]\n",
    "    \n",
    "    tauP4_pred = vector.awk(\n",
    "        ak.zip(\n",
    "            {\n",
    "                \"px\": data[\"tau_p4s\"].x,\n",
    "                \"py\": data[\"tau_p4s\"].y,\n",
    "                \"pz\": data[\"tau_p4s\"].z,\n",
    "                \"mass\": data[\"tau_p4s\"].tau,\n",
    "            }\n",
    "        )\n",
    "    )\n",
    "    tauP4_true = vector.awk(\n",
    "        ak.zip(\n",
    "            {\n",
    "                \"px\": data[\"gen_jet_tau_p4s\"].x,\n",
    "                \"py\": data[\"gen_jet_tau_p4s\"].y,\n",
    "                \"pz\": data[\"gen_jet_tau_p4s\"].z,\n",
    "                \"mass\": data[\"gen_jet_tau_p4s\"].tau,\n",
    "            }\n",
    "        )\n",
    "    )\n",
    "    \n",
    "    vals_e_pred.append(ak.to_numpy(tauP4_pred.energy))\n",
    "    vals_e_true.append(ak.to_numpy(tauP4_true.energy))\n",
    "    \n",
    "    vals_cls_pred.append(ak.to_numpy(cls_pred))\n",
    "    vals_cls_true.append(ak.to_numpy(cls_true))\n",
    "\n",
    "    vals_dm_pred.append(ak.to_numpy(dm_pred))\n",
    "    vals_dm_true.append(ak.to_numpy(dm_true))\n",
    "    \n",
    "vals_cls_true = np.concatenate(vals_cls_true)\n",
    "vals_cls_pred = np.concatenate(vals_cls_pred)\n",
    "\n",
    "vals_e_true = np.concatenate(vals_e_true)\n",
    "vals_e_pred = np.concatenate(vals_e_pred)\n",
    "\n",
    "vals_dm_true = np.concatenate(vals_dm_true)\n",
    "vals_dm_pred = np.concatenate(vals_dm_pred)"
   ]
  },
  {
   "cell_type": "code",
   "execution_count": null,
   "id": "c7990887",
   "metadata": {},
   "outputs": [],
   "source": [
    "fpr, tpr, _ = sklearn.metrics.roc_curve(vals_cls_true, vals_cls_pred)"
   ]
  },
  {
   "cell_type": "markdown",
   "id": "e3912322-47d1-417c-8046-412ec2c4e6e7",
   "metadata": {},
   "source": [
    "## Binary classification output"
   ]
  },
  {
   "cell_type": "code",
   "execution_count": null,
   "id": "523e3e90",
   "metadata": {},
   "outputs": [],
   "source": [
    "plt.figure(figsize=(5,5))\n",
    "b = np.linspace(0.0, 1, 100)\n",
    "plt.hist(vals_cls_pred[vals_cls_true==1], bins=b, density=1, histtype=\"step\", label=\"sig\")\n",
    "plt.hist(vals_cls_pred[vals_cls_true==0], bins=b, density=1, histtype=\"step\", label=\"bkg\");\n",
    "plt.yscale(\"log\")\n",
    "plt.legend()\n",
    "plt.xlabel(\"tau classifier\")\n",
    "plt.ylabel(\"number of jets / bin\")"
   ]
  },
  {
   "cell_type": "code",
   "execution_count": null,
   "id": "d1b9d3fc",
   "metadata": {},
   "outputs": [],
   "source": [
    "plt.figure(figsize=(5,5))\n",
    "plt.plot(tpr, fpr)\n",
    "#plt.plot([0,1], [0,1], color=\"black\", ls=\"--\")\n",
    "plt.xlabel(\"TPR\")\n",
    "plt.ylabel(\"FPR\")\n",
    "plt.yscale(\"log\")\n",
    "plt.ylim(1e-5, 1)"
   ]
  },
  {
   "cell_type": "markdown",
   "id": "ac136c6f-7e4a-47a0-89cd-37f36648fd36",
   "metadata": {},
   "source": [
    "## Energy regression output"
   ]
  },
  {
   "cell_type": "code",
   "execution_count": null,
   "id": "03d73859-fafd-4a84-90c3-7924fedc928a",
   "metadata": {},
   "outputs": [],
   "source": [
    "#for energy regression and decay mode, we focus only on the jets which are taus in simulation\n",
    "mask_true_tau = vals_cls_true==1"
   ]
  },
  {
   "cell_type": "code",
   "execution_count": null,
   "id": "d82c64be",
   "metadata": {},
   "outputs": [],
   "source": [
    "plt.figure(figsize=(5,5))\n",
    "b = np.linspace(0,150,100)\n",
    "plt.hist2d(vals_e_true[mask_true_tau], vals_e_pred[mask_true_tau], (b, b), cmap=\"hot_r\");\n",
    "plt.plot([0,150],[0,150], color=\"blue\", ls=\"--\")\n",
    "plt.xlabel(\"True energy\")\n",
    "plt.ylabel(\"Reconstructed energy\")"
   ]
  },
  {
   "cell_type": "code",
   "execution_count": null,
   "id": "18de1db3-ec38-420a-83bf-dcf54b54bfb1",
   "metadata": {},
   "outputs": [],
   "source": [
    "b = np.linspace(-5,5,100)\n",
    "plt.hist(vals_e_pred[mask_true_tau] - vals_e_true[mask_true_tau], bins=b);\n",
    "plt.xlabel(\"$E_{reco} - E_{true}$ [GeV]\")"
   ]
  },
  {
   "cell_type": "markdown",
   "id": "9401eedd-975d-4f78-b811-84dd4aa903a7",
   "metadata": {},
   "source": [
    "## Decay mode multiclass output"
   ]
  },
  {
   "cell_type": "code",
   "execution_count": null,
   "id": "300f875a-48fa-4fb5-b92b-d998cd24b912",
   "metadata": {},
   "outputs": [],
   "source": [
    "confusion_matrix = sklearn.metrics.confusion_matrix(vals_dm_true[mask_true_tau], vals_dm_pred[mask_true_tau], labels=range(16))\n",
    "acc = sklearn.metrics.accuracy_score(vals_dm_true[mask_true_tau], vals_dm_pred[mask_true_tau])"
   ]
  },
  {
   "cell_type": "code",
   "execution_count": null,
   "id": "69eceb03-66d8-4513-a4d6-d4c2aaa381f9",
   "metadata": {},
   "outputs": [],
   "source": [
    "plt.imshow(confusion_matrix, cmap=\"Blues\", norm=matplotlib.colors.LogNorm(vmin=10))\n",
    "plt.colorbar()\n",
    "plt.title(\"Accuracy = {:.2f}\".format(acc));"
   ]
  }
 ],
 "metadata": {
  "kernelspec": {
   "display_name": "Python 3 (ipykernel)",
   "language": "python",
   "name": "python3"
  },
  "language_info": {
   "codemirror_mode": {
    "name": "ipython",
    "version": 3
   },
   "file_extension": ".py",
   "mimetype": "text/x-python",
   "name": "python",
   "nbconvert_exporter": "python",
   "pygments_lexer": "ipython3",
   "version": "3.10.12"
  }
 },
 "nbformat": 4,
 "nbformat_minor": 5
}
