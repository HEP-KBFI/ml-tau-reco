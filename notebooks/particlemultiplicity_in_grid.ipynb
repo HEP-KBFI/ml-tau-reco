{
 "cells": [
  {
   "cell_type": "code",
   "execution_count": 1,
   "id": "1eb5fde8",
   "metadata": {},
   "outputs": [],
   "source": [
    "import awkward as ak\n",
    "import numpy as np\n",
    "import vector\n",
    "import glob"
   ]
  },
  {
   "cell_type": "code",
   "execution_count": 5,
   "id": "f5d59e42",
   "metadata": {},
   "outputs": [],
   "source": [
    "def build_p4(data, ref):\n",
    "  return vector.awk(\n",
    "    ak.zip({\n",
    "        \"px\": data[ref].x,\n",
    "        \"py\": data[ref].y,\n",
    "        \"pz\": data[ref].z,\n",
    "        \"mass\": data[ref].tau\n",
    "        \n",
    "    })\n",
    "    )"
   ]
  },
  {
   "cell_type": "code",
   "execution_count": 6,
   "id": "99c5b226",
   "metadata": {},
   "outputs": [
    {
     "name": "stdout",
     "output_type": "stream",
     "text": [
      "data loading is finished\n",
      "total # of tau with pt>0:  13301\n"
     ]
    }
   ],
   "source": [
    "data = []\n",
    "for f in glob.glob('/local/snandan/DeepTau/Grid/ZH_Htautau/*')[:150]:\n",
    "    data.append(ak.Array(ak.from_parquet(f).tolist()))\n",
    "print('data loading is finished')\n",
    "data = ak.concatenate(data)\n",
    "tau_p4=build_p4(data,'tau_p4s')\n",
    "mask = tau_p4.pt>0\n",
    "data = data[mask]\n",
    "print('total # of tau with pt>0: ', len(data))"
   ]
  },
  {
   "cell_type": "code",
   "execution_count": 8,
   "id": "5ff678a4",
   "metadata": {},
   "outputs": [
    {
     "name": "stdout",
     "output_type": "stream",
     "text": [
      "total # of inner grid: 1609421\n",
      "total # of empty inner grid: 1570826\n",
      "total # of inner grid with particle multiplicity 1: 34908\n",
      "total # of inner grid with particle multiplicity 2:: 3687\n"
     ]
    }
   ],
   "source": [
    "#print(data.inner_grid.to_numpy()[:2,11:14,:,:])23,9:15\n",
    "#print(data.inner_grid.to_numpy()[:,9:14,:,:][7])\n",
    "#print(data.inner_grid.to_numpy()[:,23:28,:,:][7])\n",
    "#print('sum:',np.sum(data.inner_grid.to_numpy()[:,9:14,:,:],axis=1).shape)\n",
    "#print('sum:',np.sum(data.inner_grid.to_numpy()[:,23:28,:,:],axis=1).shape)\n",
    "print('total # of inner grid:',ak.sum(ak.where((np.sum(data.inner_grid.to_numpy()[:,9:14,:,:],axis=1) +\\\n",
    "                np.sum(data.inner_grid.to_numpy()[:,23:28,:,:],axis=1))>-1,1,0)))                 \n",
    "print('total # of empty inner grid:',ak.sum(ak.where((np.sum(data.inner_grid.to_numpy()[:,9:14,:,:],axis=1) +\\\n",
    "                   np.sum(data.inner_grid.to_numpy()[:,23:28,:,:],axis=1))==0,1,0)))             \n",
    "print('total # of inner grid with particle multiplicity 1:',ak.sum(ak.where((np.sum(data.inner_grid.to_numpy()[:,9:14,:,:],axis=1) +\\\n",
    "                     np.sum(data.inner_grid.to_numpy()[:,23:28,:,:],axis=1))==1,1,0)))       \n",
    "print('total # of inner grid with particle multiplicity 2::',ak.sum(ak.where((np.sum(data.inner_grid.to_numpy()[:,9:14,:,:],axis=1) +\\\n",
    "                      np.sum(data.inner_grid.to_numpy()[:,23:28,:,:],axis=1))==2,1,0)))"
   ]
  },
  {
   "cell_type": "code",
   "execution_count": 9,
   "id": "45fa021b",
   "metadata": {
    "scrolled": true
   },
   "outputs": [
    {
     "name": "stdout",
     "output_type": "stream",
     "text": [
      "total # of outer grid: 5865741\n",
      "total # of empty outer grid: 5848956\n",
      "total # of outer grid with particle multiplicity 1: 16276\n",
      "total # of outer grid with particle multiplicity 2:: 509\n"
     ]
    }
   ],
   "source": [
    "print('total # of outer grid:',ak.sum(ak.where((np.sum(data.outer_grid.to_numpy()[:,9:14,:,:],axis=1) +\\\n",
    "                np.sum(data.outer_grid.to_numpy()[:,23:28,:,:],axis=1))>-1,1,0)))                 \n",
    "print('total # of empty outer grid:',ak.sum(ak.where((np.sum(data.outer_grid.to_numpy()[:,9:14,:,:],axis=1) +\\\n",
    "                   np.sum(data.outer_grid.to_numpy()[:,23:28,:,:],axis=1))==0,1,0)))             \n",
    "print('total # of outer grid with particle multiplicity 1:',ak.sum(ak.where((np.sum(data.outer_grid.to_numpy()[:,9:14,:,:],axis=1) +\\\n",
    "                     np.sum(data.outer_grid.to_numpy()[:,23:28,:,:],axis=1))==1,1,0)))       \n",
    "print('total # of outer grid with particle multiplicity 2::',ak.sum(ak.where((np.sum(data.outer_grid.to_numpy()[:,9:14,:,:],axis=1) +\\\n",
    "                      np.sum(data.outer_grid.to_numpy()[:,23:28,:,:],axis=1))==2,1,0)))"
   ]
  },
  {
   "cell_type": "code",
   "execution_count": 11,
   "id": "cfd81943",
   "metadata": {},
   "outputs": [
    {
     "name": "stdout",
     "output_type": "stream",
     "text": [
      "data loading is finished\n",
      "total # of tau with pt>0:  22228\n"
     ]
    }
   ],
   "source": [
    "data_qcd = []\n",
    "for f in glob.glob('/local/snandan/DeepTau/Grid/QCD/*')[:150]:\n",
    "    data_qcd.append(ak.Array(ak.from_parquet(f).tolist()))\n",
    "print('data loading is finished')\n",
    "data_qcd = ak.concatenate(data_qcd)\n",
    "tau_p4_qcd=build_p4(data_qcd,'tau_p4s')\n",
    "mask_qcd = tau_p4_qcd.pt>0\n",
    "data_qcd = data_qcd[mask_qcd]\n",
    "print('total # of tau with pt>0: ', len(data_qcd))"
   ]
  },
  {
   "cell_type": "code",
   "execution_count": 12,
   "id": "5df529b1",
   "metadata": {},
   "outputs": [
    {
     "name": "stdout",
     "output_type": "stream",
     "text": [
      "total # of inner grid: 2689588\n",
      "total # of empty inner grid: 2571095\n",
      "total # of inner grid with particle multiplicity 1: 106604\n",
      "total # of inner grid with particle multiplicity 2:: 11889\n"
     ]
    }
   ],
   "source": [
    "print('total # of inner grid:',ak.sum(ak.where((np.sum(data_qcd.inner_grid.to_numpy()[:,9:14,:,:],axis=1) +\\\n",
    "                np.sum(data_qcd.inner_grid.to_numpy()[:,23:28,:,:],axis=1))>-1,1,0)))                 \n",
    "print('total # of empty inner grid:',ak.sum(ak.where((np.sum(data_qcd.inner_grid.to_numpy()[:,9:14,:,:],axis=1) +\\\n",
    "                   np.sum(data_qcd.inner_grid.to_numpy()[:,23:28,:,:],axis=1))==0,1,0)))             \n",
    "print('total # of inner grid with particle multiplicity 1:',ak.sum(ak.where((np.sum(data_qcd.inner_grid.to_numpy()[:,9:14,:,:],axis=1) +\\\n",
    "                     np.sum(data_qcd.inner_grid.to_numpy()[:,23:28,:,:],axis=1))==1,1,0)))       \n",
    "print('total # of inner grid with particle multiplicity 2::',ak.sum(ak.where((np.sum(data_qcd.inner_grid.to_numpy()[:,9:14,:,:],axis=1) +\\\n",
    "                      np.sum(data_qcd.inner_grid.to_numpy()[:,23:28,:,:],axis=1))==2,1,0)))"
   ]
  },
  {
   "cell_type": "code",
   "execution_count": 13,
   "id": "6352e677",
   "metadata": {},
   "outputs": [
    {
     "name": "stdout",
     "output_type": "stream",
     "text": [
      "total # of outer grid: 9802548\n",
      "total # of empty outer grid: 9578478\n",
      "total # of outer grid with particle multiplicity 1: 210198\n",
      "total # of outer grid with particle multiplicity 2:: 13872\n"
     ]
    }
   ],
   "source": [
    "print('total # of outer grid:',ak.sum(ak.where((np.sum(data_qcd.outer_grid.to_numpy()[:,9:14,:,:],axis=1) +\\\n",
    "                np.sum(data_qcd.outer_grid.to_numpy()[:,23:28,:,:],axis=1))>-1,1,0)))                 \n",
    "print('total # of empty outer grid:',ak.sum(ak.where((np.sum(data_qcd.outer_grid.to_numpy()[:,9:14,:,:],axis=1) +\\\n",
    "                   np.sum(data_qcd.outer_grid.to_numpy()[:,23:28,:,:],axis=1))==0,1,0)))             \n",
    "print('total # of outer grid with particle multiplicity 1:',ak.sum(ak.where((np.sum(data_qcd.outer_grid.to_numpy()[:,9:14,:,:],axis=1) +\\\n",
    "                     np.sum(data_qcd.outer_grid.to_numpy()[:,23:28,:,:],axis=1))==1,1,0)))       \n",
    "print('total # of outer grid with particle multiplicity 2::',ak.sum(ak.where((np.sum(data_qcd.outer_grid.to_numpy()[:,9:14,:,:],axis=1) +\\\n",
    "                      np.sum(data_qcd.outer_grid.to_numpy()[:,23:28,:,:],axis=1))==2,1,0)))"
   ]
  },
  {
   "cell_type": "code",
   "execution_count": null,
   "id": "c7dfc110",
   "metadata": {},
   "outputs": [],
   "source": []
  }
 ],
 "metadata": {
  "kernelspec": {
   "display_name": "Python 3",
   "language": "python",
   "name": "python3"
  },
  "language_info": {
   "codemirror_mode": {
    "name": "ipython",
    "version": 3
   },
   "file_extension": ".py",
   "mimetype": "text/x-python",
   "name": "python",
   "nbconvert_exporter": "python",
   "pygments_lexer": "ipython3",
   "version": "3.10.8"
  }
 },
 "nbformat": 4,
 "nbformat_minor": 5
}
