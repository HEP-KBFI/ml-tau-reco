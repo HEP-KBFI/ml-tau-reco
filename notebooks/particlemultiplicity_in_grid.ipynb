{
 "cells": [
  {
   "cell_type": "code",
   "execution_count": 16,
   "id": "1eb5fde8",
   "metadata": {},
   "outputs": [],
   "source": [
    "import awkward as ak\n",
    "import numpy as np\n",
    "import vector\n",
    "import glob"
   ]
  },
  {
   "cell_type": "code",
   "execution_count": 17,
   "id": "f5d59e42",
   "metadata": {},
   "outputs": [],
   "source": [
    "def build_p4(data, ref):\n",
    "  return vector.awk(\n",
    "    ak.zip({\n",
    "        \"px\": data[ref].x,\n",
    "        \"py\": data[ref].y,\n",
    "        \"pz\": data[ref].z,\n",
    "        \"mass\": data[ref].tau\n",
    "        \n",
    "    })\n",
    "    )"
   ]
  },
  {
   "cell_type": "code",
   "execution_count": 44,
   "id": "6bae6aa8",
   "metadata": {},
   "outputs": [
    {
     "name": "stdout",
     "output_type": "stream",
     "text": [
      "data loading is finished\n",
      "total # of tau with pt>0:  35752\n"
     ]
    }
   ],
   "source": [
    "data = []\n",
    "for f in glob.glob('/local/snandan/Deeptau_partmul_5/Grid/ZH_Htautau/*')[:400]:\n",
    "    data.append(ak.Array(ak.from_parquet(f).tolist()))\n",
    "print('data loading is finished')\n",
    "data = ak.concatenate(data)\n",
    "tau_p4=build_p4(data,'tau_p4s')\n",
    "mask = tau_p4.pt>0\n",
    "data = data[mask]\n",
    "print('total # of tau with pt>0: ', len(data))"
   ]
  },
  {
   "cell_type": "code",
   "execution_count": 45,
   "id": "5ff678a4",
   "metadata": {},
   "outputs": [
    {
     "name": "stdout",
     "output_type": "stream",
     "text": [
      "ZH_Htautau\n",
      "(35752, 70, 11, 11)\n",
      "total # of inner grid: 4325992\n",
      "total # of empty inner grid: 4222432\n",
      "total # of inner grid with particle multiplicity 1: 93571\n",
      "total # of inner grid with particle multiplicity 2:: 9989\n",
      "total # of inner grid with particle multiplicity >2:: 0\n"
     ]
    }
   ],
   "source": [
    "#print(data.inner_grid.to_numpy()[:2,11:14,:,:])23,9:15\n",
    "#print(data.inner_grid.to_numpy()[:,9:14,:,:][7])\n",
    "#print(data.inner_grid.to_numpy()[:,23:28,:,:][7])\n",
    "#print('sum:',np.sum(data.inner_grid.to_numpy()[:,9:14,:,:],axis=1).shape)\n",
    "#print('sum:',np.sum(data.inner_grid.to_numpy()[:,23:28,:,:],axis=1).shape)\n",
    "print('ZH_Htautau')\n",
    "print(data.inner_grid.to_numpy().shape)\n",
    "print('total # of inner grid:',ak.sum(ak.where((np.sum(data.inner_grid.to_numpy()[:,9:14,:,:],axis=1) +\\\n",
    "                np.sum(data.inner_grid.to_numpy()[:,23:28,:,:],axis=1))>-1,1,0)))                 \n",
    "print('total # of empty inner grid:',ak.sum(ak.where((np.sum(data.inner_grid.to_numpy()[:,9:14,:,:],axis=1) +\\\n",
    "                   np.sum(data.inner_grid.to_numpy()[:,23:28,:,:],axis=1))==0,1,0)))             \n",
    "print('total # of inner grid with particle multiplicity 1:',ak.sum(ak.where((np.sum(data.inner_grid.to_numpy()[:,9:14,:,:],axis=1) +\\\n",
    "                     np.sum(data.inner_grid.to_numpy()[:,23:28,:,:],axis=1))==1,1,0)))       \n",
    "print('total # of inner grid with particle multiplicity 2::',ak.sum(ak.where((np.sum(data.inner_grid.to_numpy()[:,9:14,:,:],axis=1) +\\\n",
    "                      np.sum(data.inner_grid.to_numpy()[:,23:28,:,:],axis=1))==2,1,0)))\n",
    "print('total # of inner grid with particle multiplicity >2::',ak.sum(ak.where((np.sum(data.inner_grid.to_numpy()[:,9:14,:,:],axis=1) +\\\n",
    "                      np.sum(data.inner_grid.to_numpy()[:,23:28,:,:],axis=1))>2,1,0)))"
   ]
  },
  {
   "cell_type": "code",
   "execution_count": 46,
   "id": "45fa021b",
   "metadata": {
    "scrolled": true
   },
   "outputs": [
    {
     "name": "stdout",
     "output_type": "stream",
     "text": [
      "total # of outer grid: 15766632\n",
      "total # of empty outer grid: 15720993\n",
      "total # of outer grid with particle multiplicity 1: 44258\n",
      "total # of outer grid with particle multiplicity 2:: 1381\n",
      "total # of outer grid with particle multiplicity 2:: 0\n"
     ]
    }
   ],
   "source": [
    "print('total # of outer grid:',ak.sum(ak.where((np.sum(data.outer_grid.to_numpy()[:,9:14,:,:],axis=1) +\\\n",
    "                np.sum(data.outer_grid.to_numpy()[:,23:28,:,:],axis=1))>-1,1,0)))                 \n",
    "print('total # of empty outer grid:',ak.sum(ak.where((np.sum(data.outer_grid.to_numpy()[:,9:14,:,:],axis=1) +\\\n",
    "                   np.sum(data.outer_grid.to_numpy()[:,23:28,:,:],axis=1))==0,1,0)))             \n",
    "print('total # of outer grid with particle multiplicity 1:',ak.sum(ak.where((np.sum(data.outer_grid.to_numpy()[:,9:14,:,:],axis=1) +\\\n",
    "                     np.sum(data.outer_grid.to_numpy()[:,23:28,:,:],axis=1))==1,1,0)))       \n",
    "print('total # of outer grid with particle multiplicity 2::',ak.sum(ak.where((np.sum(data.outer_grid.to_numpy()[:,9:14,:,:],axis=1) +\\\n",
    "                      np.sum(data.outer_grid.to_numpy()[:,23:28,:,:],axis=1))==2,1,0)))\n",
    "print('total # of outer grid with particle multiplicity 2::',ak.sum(ak.where((np.sum(data.outer_grid.to_numpy()[:,9:14,:,:],axis=1) +\\\n",
    "                      np.sum(data.outer_grid.to_numpy()[:,23:28,:,:],axis=1))>2,1,0)))"
   ]
  },
  {
   "cell_type": "code",
   "execution_count": 47,
   "id": "d6992fd9",
   "metadata": {},
   "outputs": [
    {
     "name": "stdout",
     "output_type": "stream",
     "text": [
      "data loading is finished\n",
      "total # of tau with pt>0:  36860\n"
     ]
    }
   ],
   "source": [
    "data_qcd = []\n",
    "for f in glob.glob('/local/snandan/Deeptau_partmul_5/Grid/QCD/*')[150:400]:\n",
    "    data_qcd.append(ak.Array(ak.from_parquet(f).tolist()))\n",
    "print('data loading is finished')\n",
    "data_qcd = ak.concatenate(data_qcd)\n",
    "tau_p4_qcd=build_p4(data_qcd,'tau_p4s')\n",
    "mask_qcd = tau_p4_qcd.pt>0\n",
    "data_qcd = data_qcd[mask_qcd]\n",
    "print('total # of tau with pt>0: ', len(data_qcd))"
   ]
  },
  {
   "cell_type": "code",
   "execution_count": 48,
   "id": "b74da420",
   "metadata": {},
   "outputs": [
    {
     "name": "stdout",
     "output_type": "stream",
     "text": [
      "QCD\n",
      "total # of inner grid: 4460060\n",
      "total # of empty inner grid: 4262010\n",
      "total # of inner grid with particle multiplicity 1: 178205\n",
      "total # of inner grid with particle multiplicity 2: 19845\n",
      "total # of inner grid with particle multiplicity >2: 0\n"
     ]
    }
   ],
   "source": [
    "print('QCD')\n",
    "print('total # of inner grid:',ak.sum(ak.where((np.sum(data_qcd.inner_grid.to_numpy()[:,9:14,:,:],axis=1) +\\\n",
    "                np.sum(data_qcd.inner_grid.to_numpy()[:,23:28,:,:],axis=1))>-1,1,0)))                 \n",
    "print('total # of empty inner grid:',ak.sum(ak.where((np.sum(data_qcd.inner_grid.to_numpy()[:,9:14,:,:],axis=1) +\\\n",
    "                   np.sum(data_qcd.inner_grid.to_numpy()[:,23:28,:,:],axis=1))==0,1,0)))             \n",
    "print('total # of inner grid with particle multiplicity 1:',ak.sum(ak.where((np.sum(data_qcd.inner_grid.to_numpy()[:,9:14,:,:],axis=1) +\\\n",
    "                     np.sum(data_qcd.inner_grid.to_numpy()[:,23:28,:,:],axis=1))==1,1,0)))       \n",
    "print('total # of inner grid with particle multiplicity 2:',ak.sum(ak.where((np.sum(data_qcd.inner_grid.to_numpy()[:,9:14,:,:],axis=1) +\\\n",
    "                      np.sum(data_qcd.inner_grid.to_numpy()[:,23:28,:,:],axis=1))==2,1,0)))\n",
    "print('total # of inner grid with particle multiplicity >2:',ak.sum(ak.where((np.sum(data_qcd.inner_grid.to_numpy()[:,9:14,:,:],axis=1) +\\\n",
    "                      np.sum(data_qcd.inner_grid.to_numpy()[:,23:28,:,:],axis=1))>2,1,0)))"
   ]
  },
  {
   "cell_type": "code",
   "execution_count": 49,
   "id": "bdce5233",
   "metadata": {},
   "outputs": [
    {
     "name": "stdout",
     "output_type": "stream",
     "text": [
      "total # of outer grid: 16255260\n",
      "total # of empty outer grid: 15884907\n",
      "total # of outer grid with particle multiplicity 1: 347459\n",
      "total # of outer grid with particle multiplicity 2: 22894\n",
      "total # of outer grid with particle multiplicity >2: 0\n"
     ]
    }
   ],
   "source": [
    "print('total # of outer grid:',ak.sum(ak.where((np.sum(data_qcd.outer_grid.to_numpy()[:,9:14,:,:],axis=1) +\\\n",
    "                np.sum(data_qcd.outer_grid.to_numpy()[:,23:28,:,:],axis=1))>-1,1,0)))                 \n",
    "print('total # of empty outer grid:',ak.sum(ak.where((np.sum(data_qcd.outer_grid.to_numpy()[:,9:14,:,:],axis=1) +\\\n",
    "                   np.sum(data_qcd.outer_grid.to_numpy()[:,23:28,:,:],axis=1))==0,1,0)))             \n",
    "print('total # of outer grid with particle multiplicity 1:',ak.sum(ak.where((np.sum(data_qcd.outer_grid.to_numpy()[:,9:14,:,:],axis=1) +\\\n",
    "                     np.sum(data_qcd.outer_grid.to_numpy()[:,23:28,:,:],axis=1))==1,1,0)))       \n",
    "print('total # of outer grid with particle multiplicity 2:',ak.sum(ak.where((np.sum(data_qcd.outer_grid.to_numpy()[:,9:14,:,:],axis=1) +\\\n",
    "                      np.sum(data_qcd.outer_grid.to_numpy()[:,23:28,:,:],axis=1))==2,1,0)))\n",
    "print('total # of outer grid with particle multiplicity >2:',ak.sum(ak.where((np.sum(data_qcd.outer_grid.to_numpy()[:,9:14,:,:],axis=1) +\\\n",
    "                      np.sum(data_qcd.outer_grid.to_numpy()[:,23:28,:,:],axis=1))>2,1,0)))"
   ]
  },
  {
   "cell_type": "code",
   "execution_count": null,
   "id": "3ca19b3f",
   "metadata": {},
   "outputs": [],
   "source": []
  }
 ],
 "metadata": {
  "kernelspec": {
   "display_name": "Python 3",
   "language": "python",
   "name": "python3"
  },
  "language_info": {
   "codemirror_mode": {
    "name": "ipython",
    "version": 3
   },
   "file_extension": ".py",
   "mimetype": "text/x-python",
   "name": "python",
   "nbconvert_exporter": "python",
   "pygments_lexer": "ipython3",
   "version": "3.10.8"
  }
 },
 "nbformat": 4,
 "nbformat_minor": 5
}
